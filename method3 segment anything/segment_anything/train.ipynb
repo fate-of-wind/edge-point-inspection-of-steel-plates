{
 "cells": [
  {
   "cell_type": "code",
   "execution_count": 8,
   "id": "b3ead4ce",
   "metadata": {
    "scrolled": false
   },
   "outputs": [
    {
     "name": "stdout",
     "output_type": "stream",
     "text": [
      "25\n",
      "[152, 0, 1494, 108]\n",
      "左上:（152,0)右上:（1646,0)左下:（152,108)右下:（1646,108)\n"
     ]
    }
   ],
   "source": [
    "import sys\n",
    "import numpy as np\n",
    "import matplotlib\n",
    "import matplotlib.pyplot as plt\n",
    "import cv2\n",
    "from segment_anything import sam_model_registry, SamAutomaticMaskGenerator, SamPredictor\n",
    "\n",
    "matplotlib.use('TkAgg')\n",
    "\n",
    "sys.path.append(\"..\")\n",
    "\n",
    "sam_checkpoint = \"sam_vit_h_4b8939.pth\"\n",
    "model_type = \"vit_h\"\n",
    "\n",
    "device = \"cuda\"\n",
    "\n",
    "sam = sam_model_registry[model_type](checkpoint=sam_checkpoint)\n",
    "sam.to(device=device)\n",
    "\n",
    "image_o = cv2.imread('dataset/img (3).png')\n",
    "image = cv2.cvtColor(image_o, cv2.COLOR_BGR2RGB)\n",
    "# plt.figure(figsize=(20,20))\n",
    "# plt.imshow(image)\n",
    "# plt.axis('off')\n",
    "# plt.show()\n",
    "\n",
    "\n",
    "mask_generator = SamAutomaticMaskGenerator(sam)\n",
    "\n",
    "masks = mask_generator.generate(image)\n",
    "print(len(masks))\n",
    "plt.figure(figsize=(20, 20))\n",
    "plt.imshow(image)\n",
    "show_anns(masks)\n",
    "plt.axis('off')\n",
    "plt.show()"
   ]
  },
  {
   "cell_type": "code",
   "execution_count": 9,
   "id": "8bc05d56",
   "metadata": {},
   "outputs": [],
   "source": [
    "def show_anns(anns):\n",
    "    if len(anns) == 0:\n",
    "        return\n",
    "    sorted_anns = sorted(anns, key=(lambda x: x['area']), reverse=True)\n",
    "    ax = plt.gca()\n",
    "    ax.set_autoscale_on(False)\n",
    "    polygons = []\n",
    "    color = []\n",
    "    for ann in sorted_anns:\n",
    "        m = ann['segmentation']\n",
    "        iron_len = ann['bbox'][2]\n",
    "        rightx = ann['bbox'][0]+ann['bbox'][2]\n",
    "        downy = ann['bbox'][1]+ann['bbox'][3]\n",
    "        if(2600 >iron_len > 1400 and (ann['bbox'][1] < 40 or downy > 2040) and ann['bbox'][0] < 500):\n",
    "            print(ann['bbox'])\n",
    "            print(\"左上:（\" + str(ann['bbox'][0]) + \",\" + str(ann['bbox'][1]) + \")\" + \"右上:（\" + str(rightx)+ \",\" +str(ann['bbox'][1]) + \")\" +\"左下:（\" + str(ann['bbox'][0])+ \",\" +str(downy) + \")\" +\"右下:（\" + str(rightx)+ \",\" +str(downy) + \")\")\n",
    "            img = np.ones((m.shape[0], m.shape[1], 3))\n",
    "            color_mask = np.random.random((1, 3)).tolist()[0]\n",
    "            for i in range(3):\n",
    "                img[:, :, i] = color_mask[i]\n",
    "            cv2.circle(image_o, (ann['bbox'][0],ann['bbox'][1]), 20,(255, 0, 0), -1)\n",
    "            cv2.circle(image_o, (rightx,ann['bbox'][1]), 20,(255, 0, 0), -1)\n",
    "            cv2.circle(image_o, (ann['bbox'][0],downy), 20,(255, 0, 0), -1)\n",
    "            cv2.circle(image_o, (rightx,downy), 20,(255, 0, 0), -1)\n",
    "            ax.imshow(image_o)\n",
    "            ax.imshow(np.dstack((img, m * 0.35)))\n",
    "        # img = np.ones((m.shape[0], m.shape[1], 3))\n",
    "        # color_mask = np.random.random((1, 3)).tolist()[0]\n",
    "        # for i in range(3):\n",
    "        #     img[:, :, i] = color_mask[i]\n",
    "        # ax.imshow(np.dstack((img, m * 0.35)))"
   ]
  },
  {
   "cell_type": "code",
   "execution_count": 4,
   "id": "a6dc4739",
   "metadata": {},
   "outputs": [],
   "source": [
    "import torch\n",
    "torch.cuda.empty_cache()"
   ]
  },
  {
   "cell_type": "code",
   "execution_count": 15,
   "id": "9a1225b8",
   "metadata": {},
   "outputs": [
    {
     "name": "stdout",
     "output_type": "stream",
     "text": [
      "137\n"
     ]
    }
   ],
   "source": [
    "image_o = cv2.imread('notebooks/images/groceries.jpg')\n",
    "image = cv2.cvtColor(image_o, cv2.COLOR_BGR2RGB)\n",
    "masks = mask_generator.generate(image)\n",
    "print(len(masks))\n",
    "plt.figure(figsize=(20, 20))\n",
    "plt.imshow(image)\n",
    "show_anns(masks)\n",
    "plt.axis('off')\n",
    "plt.show()"
   ]
  }
 ],
 "metadata": {
  "kernelspec": {
   "display_name": "Python 3 (ipykernel)",
   "language": "python",
   "name": "python3"
  },
  "language_info": {
   "codemirror_mode": {
    "name": "ipython",
    "version": 3
   },
   "file_extension": ".py",
   "mimetype": "text/x-python",
   "name": "python",
   "nbconvert_exporter": "python",
   "pygments_lexer": "ipython3",
   "version": "3.9.7"
  }
 },
 "nbformat": 4,
 "nbformat_minor": 5
}
